{
 "cells": [
  {
   "cell_type": "code",
   "execution_count": 16,
   "metadata": {},
   "outputs": [],
   "source": [
    "import pandas as pd\n",
    "from sklearn.metrics import confusion_matrix, ConfusionMatrixDisplay\n",
    "import matplotlib.pyplot as plt\n",
    "from sklearn import metrics"
   ]
  },
  {
   "cell_type": "markdown",
   "metadata": {},
   "source": [
    "# csv files reading"
   ]
  },
  {
   "cell_type": "code",
   "execution_count": 6,
   "metadata": {},
   "outputs": [],
   "source": [
    "columns = [\"Video\", \"Frame\", \"Predicted\", \"Real\"]\n",
    "ade = pd.read_csv('predict-embeddingAdenoma.csv', header=None)\n",
    "ade.columns = columns\n",
    "hyp = pd.read_csv('predict-embeddingHiperplastic.csv', header=None)\n",
    "hyp.columns = columns\n",
    "ser = pd.read_csv('predict-embeddingSerrated.csv', header=None)\n",
    "ser.columns = columns"
   ]
  },
  {
   "cell_type": "code",
   "execution_count": 7,
   "metadata": {},
   "outputs": [
    {
     "data": {
      "text/html": [
       "<div>\n",
       "<style scoped>\n",
       "    .dataframe tbody tr th:only-of-type {\n",
       "        vertical-align: middle;\n",
       "    }\n",
       "\n",
       "    .dataframe tbody tr th {\n",
       "        vertical-align: top;\n",
       "    }\n",
       "\n",
       "    .dataframe thead th {\n",
       "        text-align: right;\n",
       "    }\n",
       "</style>\n",
       "<table border=\"1\" class=\"dataframe\">\n",
       "  <thead>\n",
       "    <tr style=\"text-align: right;\">\n",
       "      <th></th>\n",
       "      <th>Video</th>\n",
       "      <th>Frame</th>\n",
       "      <th>Predicted</th>\n",
       "      <th>Real</th>\n",
       "    </tr>\n",
       "  </thead>\n",
       "  <tbody>\n",
       "    <tr>\n",
       "      <th>0</th>\n",
       "      <td>adenoma_NBI/video_1</td>\n",
       "      <td>386</td>\n",
       "      <td>adenoma</td>\n",
       "      <td>adenoma</td>\n",
       "    </tr>\n",
       "    <tr>\n",
       "      <th>1</th>\n",
       "      <td>adenoma_NBI/video_1</td>\n",
       "      <td>387</td>\n",
       "      <td>adenoma</td>\n",
       "      <td>adenoma</td>\n",
       "    </tr>\n",
       "    <tr>\n",
       "      <th>2</th>\n",
       "      <td>adenoma_NBI/video_1</td>\n",
       "      <td>388</td>\n",
       "      <td>adenoma</td>\n",
       "      <td>adenoma</td>\n",
       "    </tr>\n",
       "    <tr>\n",
       "      <th>3</th>\n",
       "      <td>adenoma_NBI/video_1</td>\n",
       "      <td>389</td>\n",
       "      <td>adenoma</td>\n",
       "      <td>adenoma</td>\n",
       "    </tr>\n",
       "    <tr>\n",
       "      <th>4</th>\n",
       "      <td>adenoma_NBI/video_1</td>\n",
       "      <td>390</td>\n",
       "      <td>adenoma</td>\n",
       "      <td>adenoma</td>\n",
       "    </tr>\n",
       "  </tbody>\n",
       "</table>\n",
       "</div>"
      ],
      "text/plain": [
       "                 Video  Frame Predicted     Real\n",
       "0  adenoma_NBI/video_1    386   adenoma  adenoma\n",
       "1  adenoma_NBI/video_1    387   adenoma  adenoma\n",
       "2  adenoma_NBI/video_1    388   adenoma  adenoma\n",
       "3  adenoma_NBI/video_1    389   adenoma  adenoma\n",
       "4  adenoma_NBI/video_1    390   adenoma  adenoma"
      ]
     },
     "execution_count": 7,
     "metadata": {},
     "output_type": "execute_result"
    }
   ],
   "source": [
    "ade.head()"
   ]
  },
  {
   "cell_type": "markdown",
   "metadata": {},
   "source": [
    "## Concatenating"
   ]
  },
  {
   "cell_type": "code",
   "execution_count": 8,
   "metadata": {},
   "outputs": [
    {
     "data": {
      "text/html": [
       "<div>\n",
       "<style scoped>\n",
       "    .dataframe tbody tr th:only-of-type {\n",
       "        vertical-align: middle;\n",
       "    }\n",
       "\n",
       "    .dataframe tbody tr th {\n",
       "        vertical-align: top;\n",
       "    }\n",
       "\n",
       "    .dataframe thead th {\n",
       "        text-align: right;\n",
       "    }\n",
       "</style>\n",
       "<table border=\"1\" class=\"dataframe\">\n",
       "  <thead>\n",
       "    <tr style=\"text-align: right;\">\n",
       "      <th></th>\n",
       "      <th>Video</th>\n",
       "      <th>Frame</th>\n",
       "      <th>Predicted</th>\n",
       "      <th>Real</th>\n",
       "    </tr>\n",
       "  </thead>\n",
       "  <tbody>\n",
       "    <tr>\n",
       "      <th>0</th>\n",
       "      <td>adenoma_NBI/video_1</td>\n",
       "      <td>386</td>\n",
       "      <td>adenoma</td>\n",
       "      <td>adenoma</td>\n",
       "    </tr>\n",
       "    <tr>\n",
       "      <th>1</th>\n",
       "      <td>adenoma_NBI/video_1</td>\n",
       "      <td>387</td>\n",
       "      <td>adenoma</td>\n",
       "      <td>adenoma</td>\n",
       "    </tr>\n",
       "    <tr>\n",
       "      <th>2</th>\n",
       "      <td>adenoma_NBI/video_1</td>\n",
       "      <td>388</td>\n",
       "      <td>adenoma</td>\n",
       "      <td>adenoma</td>\n",
       "    </tr>\n",
       "    <tr>\n",
       "      <th>3</th>\n",
       "      <td>adenoma_NBI/video_1</td>\n",
       "      <td>389</td>\n",
       "      <td>adenoma</td>\n",
       "      <td>adenoma</td>\n",
       "    </tr>\n",
       "    <tr>\n",
       "      <th>4</th>\n",
       "      <td>adenoma_NBI/video_1</td>\n",
       "      <td>390</td>\n",
       "      <td>adenoma</td>\n",
       "      <td>adenoma</td>\n",
       "    </tr>\n",
       "    <tr>\n",
       "      <th>...</th>\n",
       "      <td>...</td>\n",
       "      <td>...</td>\n",
       "      <td>...</td>\n",
       "      <td>...</td>\n",
       "    </tr>\n",
       "    <tr>\n",
       "      <th>12527</th>\n",
       "      <td>serrated_NBI/video_76</td>\n",
       "      <td>422</td>\n",
       "      <td>adenoma</td>\n",
       "      <td>serrated</td>\n",
       "    </tr>\n",
       "    <tr>\n",
       "      <th>12528</th>\n",
       "      <td>serrated_NBI/video_76</td>\n",
       "      <td>423</td>\n",
       "      <td>adenoma</td>\n",
       "      <td>serrated</td>\n",
       "    </tr>\n",
       "    <tr>\n",
       "      <th>12529</th>\n",
       "      <td>serrated_NBI/video_76</td>\n",
       "      <td>424</td>\n",
       "      <td>adenoma</td>\n",
       "      <td>serrated</td>\n",
       "    </tr>\n",
       "    <tr>\n",
       "      <th>12530</th>\n",
       "      <td>serrated_NBI/video_76</td>\n",
       "      <td>425</td>\n",
       "      <td>adenoma</td>\n",
       "      <td>serrated</td>\n",
       "    </tr>\n",
       "    <tr>\n",
       "      <th>12531</th>\n",
       "      <td>serrated_NBI/video_76</td>\n",
       "      <td>426</td>\n",
       "      <td>adenoma</td>\n",
       "      <td>serrated</td>\n",
       "    </tr>\n",
       "  </tbody>\n",
       "</table>\n",
       "<p>12532 rows × 4 columns</p>\n",
       "</div>"
      ],
      "text/plain": [
       "                       Video  Frame Predicted      Real\n",
       "0        adenoma_NBI/video_1    386   adenoma   adenoma\n",
       "1        adenoma_NBI/video_1    387   adenoma   adenoma\n",
       "2        adenoma_NBI/video_1    388   adenoma   adenoma\n",
       "3        adenoma_NBI/video_1    389   adenoma   adenoma\n",
       "4        adenoma_NBI/video_1    390   adenoma   adenoma\n",
       "...                      ...    ...       ...       ...\n",
       "12527  serrated_NBI/video_76    422   adenoma  serrated\n",
       "12528  serrated_NBI/video_76    423   adenoma  serrated\n",
       "12529  serrated_NBI/video_76    424   adenoma  serrated\n",
       "12530  serrated_NBI/video_76    425   adenoma  serrated\n",
       "12531  serrated_NBI/video_76    426   adenoma  serrated\n",
       "\n",
       "[12532 rows x 4 columns]"
      ]
     },
     "execution_count": 8,
     "metadata": {},
     "output_type": "execute_result"
    }
   ],
   "source": [
    "total_df = pd.concat([ade, hyp, ser])\n",
    "total_df = total_df.reset_index(drop = True)\n",
    "total_df"
   ]
  },
  {
   "cell_type": "markdown",
   "metadata": {},
   "source": [
    "# Metrics\n",
    "## confussion matrix"
   ]
  },
  {
   "cell_type": "code",
   "execution_count": 12,
   "metadata": {},
   "outputs": [
    {
     "name": "stdout",
     "output_type": "stream",
     "text": [
      "[[0.99390337 0.00426764 0.00182899]\n",
      " [0.97540046 0.01773455 0.00686499]\n",
      " [0.98949495 0.00888889 0.00161616]]\n"
     ]
    }
   ],
   "source": [
    "y_true = total_df['Real'].values\n",
    "y_true = y_true.tolist()\n",
    "y_pred = total_df['Predicted'].values\n",
    "y_pred = y_pred.tolist()\n",
    "cm = confusion_matrix(y_true=y_true, y_pred=y_pred, normalize='true')\n",
    "print(cm)"
   ]
  },
  {
   "cell_type": "code",
   "execution_count": 15,
   "metadata": {},
   "outputs": [
    {
     "data": {
      "image/png": "[encoded data removed]",
      "text/plain": [
       "<Figure size 640x480 with 2 Axes>"
      ]
     },
     "metadata": {},
     "output_type": "display_data"
    }
   ],
   "source": [
    "target_names = ['adenoma', 'hyperplastic', 'serrated']\n",
    "disp = ConfusionMatrixDisplay(confusion_matrix=cm, display_labels=target_names)\n",
    "disp = disp.plot(include_values=True, cmap=plt.cm.Blues, xticks_rotation='horizontal', values_format='.2f')\n",
    "plt.show()\n",
    "#plt.savefig('confusion_matrix_art_Nbi_80.png')"
   ]
  },
  {
   "cell_type": "markdown",
   "metadata": {},
   "source": [
    "## general report"
   ]
  },
  {
   "cell_type": "code",
   "execution_count": 17,
   "metadata": {},
   "outputs": [
    {
     "name": "stdout",
     "output_type": "stream",
     "text": [
      "               precision    recall  f1-score   support\n",
      "\n",
      "      adenoma       0.53      0.99      0.69      6561\n",
      "hiperplastico       0.55      0.02      0.03      3496\n",
      "     serrated       0.10      0.00      0.00      2475\n",
      "\n",
      "     accuracy                           0.53     12532\n",
      "    macro avg       0.39      0.34      0.24     12532\n",
      " weighted avg       0.45      0.53      0.37     12532\n",
      "\n"
     ]
    }
   ],
   "source": [
    "print(metrics.classification_report(y_true, y_pred, target_names=[\"adenoma\",\"hiperplastico\", \"serrated\"]))"
   ]
  },
  {
   "cell_type": "code",
   "execution_count": null,
   "metadata": {},
   "outputs": [],
   "source": []
  }
 ],
 "metadata": {
  "kernelspec": {
   "display_name": "Python 3",
   "language": "python",
   "name": "python3"
  },
  "language_info": {
   "codemirror_mode": {
    "name": "ipython",
    "version": 3
   },
   "file_extension": ".py",
   "mimetype": "text/x-python",
   "name": "python",
   "nbconvert_exporter": "python",
   "pygments_lexer": "ipython3",
   "version": "3.8.10"
  }
 },
 "nbformat": 4,
 "nbformat_minor": 2
}
