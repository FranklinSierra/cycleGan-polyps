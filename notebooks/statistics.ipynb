{
 "cells": [
  {
   "cell_type": "markdown",
   "id": "9a366d71",
   "metadata": {},
   "source": [
    "# **p value rol:**\n",
    "<font color='red'>Tests types</font>\n",
    "1. **Mann-Whitney U Test**: for determining whether two independent samples were drawn from a **population with the same distribution**. Determine if the values from the two samples are randomly mixed in the rank ordering or if they are clustered at opposite ends when combined. A random rank order would mean that the two samples are not different, while a cluster of one sample values would indicate a difference between them.\n",
    "2. **Wilcoxon Signed-Rank Test**: each sample is independent, but comes from the same population. Examples of paired samples in machine learning might be the **same algorithm evaluated on different datasets** or different algorithms evaluated on exactly the same training and test data\n",
    "3. **Kruskal-Wallis H Test**: This test can be used to **determine whether more than two independent samples have a different distribution**. The test does not identify where the difference(s) occur. **Each data sample must be independent, have 5 or more observations, and the data samples can differ in size.**\n",
    "4. **Friedman Test**: The Friedman test is a nonparametric statistical procedure for comparing **more than two samples that are related.**\n",
    "\n",
    "* p <= alpha: reject H0, different distribution.\n",
    "* p > alpha: fail to reject H0, same distribution.\n",
    "\n",
    "For the test to be effective, it requires at least 20 observations in each data sample."
   ]
  },
  {
   "cell_type": "code",
   "execution_count": 25,
   "id": "77c4ea67",
   "metadata": {},
   "outputs": [],
   "source": [
    "from scipy.stats import mannwhitneyu\n",
    "import numpy as np"
   ]
  },
  {
   "cell_type": "markdown",
   "id": "fdfe4071",
   "metadata": {},
   "source": [
    "Ground truth distributions..."
   ]
  },
  {
   "cell_type": "code",
   "execution_count": 26,
   "id": "495f0c29",
   "metadata": {},
   "outputs": [],
   "source": [
    "distribution_a = np.zeros(40, dtype=int) \n",
    "distribution_h = np.ones(21, dtype=int)\n",
    "distribution_s = np.ones(15, dtype=int) + 1"
   ]
  },
  {
   "cell_type": "markdown",
   "id": "2ffae730",
   "metadata": {},
   "source": [
    "Model distributions..."
   ]
  },
  {
   "cell_type": "code",
   "execution_count": 27,
   "id": "f0be7dbd",
   "metadata": {},
   "outputs": [],
   "source": [
    "a_ck80 = np.zeros(35, dtype=int)\n",
    "h_ck80 = np.ones(3, dtype=int) \n",
    "s_ck80 = np.ones(2, dtype=int) + 1\n",
    "model_ck80_ade = np.concatenate((a_ck80, h_ck80, s_ck80), axis = 0)\n",
    "\n",
    "a_ck80 = np.zeros(5, dtype=int)\n",
    "h_ck80 = np.ones(15, dtype=int) \n",
    "s_ck80 = np.ones(1, dtype=int) + 1\n",
    "model_ck80_hyp = np.concatenate((a_ck80, h_ck80, s_ck80), axis = 0)\n",
    "\n",
    "a_ck80 = np.zeros(4, dtype=int)\n",
    "h_ck80 = np.ones(1, dtype=int) \n",
    "s_ck80 = np.ones(10, dtype=int) + 1\n",
    "model_ck80_ser = np.concatenate((a_ck80, h_ck80, s_ck80), axis = 0)"
   ]
  },
  {
   "cell_type": "markdown",
   "id": "f162cf85",
   "metadata": {},
   "source": [
    "### Mann-Whitney U Test"
   ]
  },
  {
   "cell_type": "code",
   "execution_count": 28,
   "id": "6de312d6",
   "metadata": {},
   "outputs": [
    {
     "name": "stdout",
     "output_type": "stream",
     "text": [
      "para adenoma:\n",
      "Statistics = 700.000, P_value = 0.011235626927369631\n",
      "Different distribution (reject H0)\n",
      "para hyperplastic:\n",
      "Statistics = 178.500, P_value = 0.042795987055179854\n",
      "Different distribution (reject H0)\n",
      "para serrated:\n",
      "Statistics = 75.000, P_value = 0.008896528445245237\n",
      "Different distribution (reject H0)\n"
     ]
    }
   ],
   "source": [
    "print(\"para adenoma:\")\n",
    "alpha = 0.05\n",
    "stat, p = mannwhitneyu(distribution_a, model_ck80_ade)\n",
    "print(f'Statistics = {stat:.3f}, P_value = {p}')\n",
    "\n",
    "alpha = 0.05\n",
    "if p > alpha:\n",
    "    print('Same distribution (fail to reject H0)')\n",
    "else:\n",
    "    print('Different distribution (reject H0)')\n",
    "    \n",
    "print(\"para hyperplastic:\")\n",
    "alpha = 0.05\n",
    "stat, p = mannwhitneyu(distribution_h, model_ck80_hyp)\n",
    "print(f'Statistics = {stat:.3f}, P_value = {p}')\n",
    "\n",
    "alpha = 0.05\n",
    "if p > alpha:\n",
    "    print('Same distribution (fail to reject H0)')\n",
    "else:\n",
    "    print('Different distribution (reject H0)')\n",
    "    \n",
    "print(\"para serrated:\")\n",
    "alpha = 0.05\n",
    "stat, p = mannwhitneyu(distribution_s, model_ck80_ser)\n",
    "print(f'Statistics = {stat:.3f}, P_value = {p}')\n",
    "\n",
    "alpha = 0.05\n",
    "if p > alpha:\n",
    "    print('Same distribution (fail to reject H0)')\n",
    "else:\n",
    "    print('Different distribution (reject H0)')"
   ]
  },
  {
   "cell_type": "markdown",
   "id": "b706cf9c",
   "metadata": {},
   "source": [
    "### Wilcoxon Signed-Rank Test:"
   ]
  },
  {
   "cell_type": "code",
   "execution_count": 29,
   "id": "e18c0b37",
   "metadata": {},
   "outputs": [
    {
     "name": "stdout",
     "output_type": "stream",
     "text": [
      "para adenoma:\n",
      "Statistics = 0.000, P_value = 0.03843393023678171\n",
      "Different distribution (reject H0)\n",
      "para hyperplastic:\n",
      "Statistics = 3.500, P_value = 0.10247043485974941\n",
      "Same distribution (fail to reject H0)\n",
      "para serrated:\n",
      "Statistics = 0.000, P_value = 0.03389485352468927\n",
      "Different distribution (reject H0)\n"
     ]
    },
    {
     "name": "stderr",
     "output_type": "stream",
     "text": [
      "/home/franklin/.local/lib/python3.6/site-packages/scipy/stats/morestats.py:2971: UserWarning: Sample size too small for normal approximation.\n",
      "  warnings.warn(\"Sample size too small for normal approximation.\")\n",
      "/home/franklin/.local/lib/python3.6/site-packages/scipy/stats/morestats.py:2957: UserWarning: Exact p-value calculation does not work if there are ties. Switching to normal approximation.\n",
      "  warnings.warn(\"Exact p-value calculation does not work if there are \"\n"
     ]
    }
   ],
   "source": [
    "from scipy.stats import wilcoxon\n",
    "\n",
    "print(\"para adenoma:\")\n",
    "alpha = 0.05\n",
    "stat, p = wilcoxon(distribution_a, model_ck80_ade)\n",
    "print(f'Statistics = {stat:.3f}, P_value = {p}')\n",
    "\n",
    "alpha = 0.05\n",
    "if p > alpha:\n",
    "    print('Same distribution (fail to reject H0)')\n",
    "else:\n",
    "    print('Different distribution (reject H0)')\n",
    "    \n",
    "print(\"para hyperplastic:\")\n",
    "alpha = 0.05\n",
    "stat, p = wilcoxon(distribution_h, model_ck80_hyp)\n",
    "print(f'Statistics = {stat:.3f}, P_value = {p}')\n",
    "\n",
    "alpha = 0.05\n",
    "if p > alpha:\n",
    "    print('Same distribution (fail to reject H0)')\n",
    "else:\n",
    "    print('Different distribution (reject H0)')\n",
    "    \n",
    "print(\"para serrated:\")\n",
    "alpha = 0.05\n",
    "stat, p = wilcoxon(distribution_s, model_ck80_ser)\n",
    "print(f'Statistics = {stat:.3f}, P_value = {p}')\n",
    "\n",
    "alpha = 0.05\n",
    "if p > alpha:\n",
    "    print('Same distribution (fail to reject H0)')\n",
    "else:\n",
    "    print('Different distribution (reject H0)')"
   ]
  },
  {
   "cell_type": "markdown",
   "id": "17644337",
   "metadata": {},
   "source": [
    "### Kruskal-Wallis H Test:"
   ]
  },
  {
   "cell_type": "code",
   "execution_count": 32,
   "id": "c81cd285",
   "metadata": {},
   "outputs": [
    {
     "name": "stdout",
     "output_type": "stream",
     "text": [
      "para adenoma:\n",
      "Statistics = 5.261, P_value = 0.02180340721512918\n",
      "Different distribution (reject H0)\n",
      "para hyperplastic:\n",
      "Statistics = 3.027, P_value = 0.08188793425808796\n",
      "Same distribution (fail to reject H0)\n",
      "para serrated:\n",
      "Statistics = 5.769, P_value = 0.01630917187775497\n",
      "Different distribution (reject H0)\n"
     ]
    }
   ],
   "source": [
    "from scipy.stats import kruskal\n",
    "\n",
    "print(\"para adenoma:\")\n",
    "alpha = 0.05\n",
    "stat, p = kruskal(distribution_a, model_ck80_ade)\n",
    "print(f'Statistics = {stat:.3f}, P_value = {p}')\n",
    "\n",
    "alpha = 0.05\n",
    "if p > alpha:\n",
    "    print('Same distribution (fail to reject H0)')\n",
    "else:\n",
    "    print('Different distribution (reject H0)')\n",
    "    \n",
    "print(\"para hyperplastic:\")\n",
    "alpha = 0.05\n",
    "stat, p = kruskal(distribution_h, model_ck80_hyp)\n",
    "print(f'Statistics = {stat:.3f}, P_value = {p}')\n",
    "\n",
    "alpha = 0.05\n",
    "if p > alpha:\n",
    "    print('Same distribution (fail to reject H0)')\n",
    "else:\n",
    "    print('Different distribution (reject H0)')\n",
    "    \n",
    "print(\"para serrated:\")\n",
    "alpha = 0.05\n",
    "stat, p = kruskal(distribution_s, model_ck80_ser)\n",
    "print(f'Statistics = {stat:.3f}, P_value = {p}')\n",
    "\n",
    "alpha = 0.05\n",
    "if p > alpha:\n",
    "    print('Same distribution (fail to reject H0)')\n",
    "else:\n",
    "    print('Different distribution (reject H0)')"
   ]
  },
  {
   "cell_type": "markdown",
   "id": "35022f89",
   "metadata": {},
   "source": [
    "## Friedman Test:"
   ]
  },
  {
   "cell_type": "code",
   "execution_count": 33,
   "id": "d7a864a8",
   "metadata": {},
   "outputs": [
    {
     "name": "stdout",
     "output_type": "stream",
     "text": [
      "para adenoma:\n"
     ]
    },
    {
     "ename": "ValueError",
     "evalue": "Less than 3 levels.  Friedman test not appropriate.",
     "output_type": "error",
     "traceback": [
      "\u001b[0;31m---------------------------------------------------------------------------\u001b[0m",
      "\u001b[0;31mValueError\u001b[0m                                Traceback (most recent call last)",
      "\u001b[0;32m<ipython-input-33-451b3702b719>\u001b[0m in \u001b[0;36m<module>\u001b[0;34m\u001b[0m\n\u001b[1;32m      3\u001b[0m \u001b[0mprint\u001b[0m\u001b[0;34m(\u001b[0m\u001b[0;34m\"para adenoma:\"\u001b[0m\u001b[0;34m)\u001b[0m\u001b[0;34m\u001b[0m\u001b[0;34m\u001b[0m\u001b[0m\n\u001b[1;32m      4\u001b[0m \u001b[0malpha\u001b[0m \u001b[0;34m=\u001b[0m \u001b[0;36m0.05\u001b[0m\u001b[0;34m\u001b[0m\u001b[0;34m\u001b[0m\u001b[0m\n\u001b[0;32m----> 5\u001b[0;31m \u001b[0mstat\u001b[0m\u001b[0;34m,\u001b[0m \u001b[0mp\u001b[0m \u001b[0;34m=\u001b[0m \u001b[0mfriedmanchisquare\u001b[0m\u001b[0;34m(\u001b[0m\u001b[0mdistribution_a\u001b[0m\u001b[0;34m,\u001b[0m \u001b[0mmodel_ck80_ade\u001b[0m\u001b[0;34m)\u001b[0m\u001b[0;34m\u001b[0m\u001b[0;34m\u001b[0m\u001b[0m\n\u001b[0m\u001b[1;32m      6\u001b[0m \u001b[0mprint\u001b[0m\u001b[0;34m(\u001b[0m\u001b[0;34mf'Statistics = {stat:.3f}, P_value = {p}'\u001b[0m\u001b[0;34m)\u001b[0m\u001b[0;34m\u001b[0m\u001b[0;34m\u001b[0m\u001b[0m\n\u001b[1;32m      7\u001b[0m \u001b[0;34m\u001b[0m\u001b[0m\n",
      "\u001b[0;32m~/.local/lib/python3.6/site-packages/scipy/stats/stats.py\u001b[0m in \u001b[0;36mfriedmanchisquare\u001b[0;34m(*args)\u001b[0m\n\u001b[1;32m   7272\u001b[0m     \u001b[0mk\u001b[0m \u001b[0;34m=\u001b[0m \u001b[0mlen\u001b[0m\u001b[0;34m(\u001b[0m\u001b[0margs\u001b[0m\u001b[0;34m)\u001b[0m\u001b[0;34m\u001b[0m\u001b[0;34m\u001b[0m\u001b[0m\n\u001b[1;32m   7273\u001b[0m     \u001b[0;32mif\u001b[0m \u001b[0mk\u001b[0m \u001b[0;34m<\u001b[0m \u001b[0;36m3\u001b[0m\u001b[0;34m:\u001b[0m\u001b[0;34m\u001b[0m\u001b[0;34m\u001b[0m\u001b[0m\n\u001b[0;32m-> 7274\u001b[0;31m         \u001b[0;32mraise\u001b[0m \u001b[0mValueError\u001b[0m\u001b[0;34m(\u001b[0m\u001b[0;34m'Less than 3 levels.  Friedman test not appropriate.'\u001b[0m\u001b[0;34m)\u001b[0m\u001b[0;34m\u001b[0m\u001b[0;34m\u001b[0m\u001b[0m\n\u001b[0m\u001b[1;32m   7275\u001b[0m \u001b[0;34m\u001b[0m\u001b[0m\n\u001b[1;32m   7276\u001b[0m     \u001b[0mn\u001b[0m \u001b[0;34m=\u001b[0m \u001b[0mlen\u001b[0m\u001b[0;34m(\u001b[0m\u001b[0margs\u001b[0m\u001b[0;34m[\u001b[0m\u001b[0;36m0\u001b[0m\u001b[0;34m]\u001b[0m\u001b[0;34m)\u001b[0m\u001b[0;34m\u001b[0m\u001b[0;34m\u001b[0m\u001b[0m\n",
      "\u001b[0;31mValueError\u001b[0m: Less than 3 levels.  Friedman test not appropriate."
     ]
    }
   ],
   "source": [
    "from scipy.stats import friedmanchisquare\n",
    "\n",
    "print(\"para adenoma:\")\n",
    "alpha = 0.05\n",
    "stat, p = friedmanchisquare(distribution_a, model_ck80_ade)\n",
    "print(f'Statistics = {stat:.3f}, P_value = {p}')\n",
    "\n",
    "alpha = 0.05\n",
    "if p > alpha:\n",
    "    print('Same distribution (fail to reject H0)')\n",
    "else:\n",
    "    print('Different distribution (reject H0)')\n",
    "    \n",
    "print(\"para hyperplastic:\")\n",
    "alpha = 0.05\n",
    "stat, p = friedmanchisquare(distribution_h, model_ck80_hyp)\n",
    "print(f'Statistics = {stat:.3f}, P_value = {p}')\n",
    "\n",
    "alpha = 0.05\n",
    "if p > alpha:\n",
    "    print('Same distribution (fail to reject H0)')\n",
    "else:\n",
    "    print('Different distribution (reject H0)')\n",
    "    \n",
    "print(\"para serrated:\")\n",
    "alpha = 0.05\n",
    "stat, p = friedmanchisquare(distribution_s, model_ck80_ser)\n",
    "print(f'Statistics = {stat:.3f}, P_value = {p}')\n",
    "\n",
    "alpha = 0.05\n",
    "if p > alpha:\n",
    "    print('Same distribution (fail to reject H0)')\n",
    "else:\n",
    "    print('Different distribution (reject H0)')"
   ]
  },
  {
   "cell_type": "markdown",
   "id": "26ace066",
   "metadata": {},
   "source": [
    "**Prueba:**"
   ]
  },
  {
   "cell_type": "code",
   "execution_count": 23,
   "id": "086a320d",
   "metadata": {},
   "outputs": [
    {
     "data": {
      "text/plain": [
       "array([0, 0, 0, 0, 0, 0, 0, 0, 0, 0, 0, 0, 0, 0, 0, 0, 0, 0, 0, 0, 0, 0,\n",
       "       0, 0, 0, 0, 0, 0, 0, 0, 0, 0, 0, 0, 0, 0, 0, 0, 0, 0])"
      ]
     },
     "execution_count": 23,
     "metadata": {},
     "output_type": "execute_result"
    }
   ],
   "source": [
    "distribution_a"
   ]
  },
  {
   "cell_type": "code",
   "execution_count": 21,
   "id": "b47ee0bb",
   "metadata": {},
   "outputs": [
    {
     "data": {
      "text/plain": [
       "array([0, 0, 0, 0, 0, 0, 0, 0, 0, 0, 0, 0, 0, 0, 0, 0, 0, 0, 0, 0, 0, 0,\n",
       "       0, 0, 0, 0, 0, 0, 0, 0, 0, 0, 0, 0, 0, 1, 1, 1, 1, 1])"
      ]
     },
     "execution_count": 21,
     "metadata": {},
     "output_type": "execute_result"
    }
   ],
   "source": [
    "ade = np.zeros(35, dtype=int)\n",
    "hyp = np.ones(5, dtype=int)\n",
    "\n",
    "distribution_b = np.concatenate((ade, hyp), axis=0)\n",
    "distribution_b"
   ]
  },
  {
   "cell_type": "code",
   "execution_count": 22,
   "id": "e18a5d33",
   "metadata": {},
   "outputs": [
    {
     "name": "stdout",
     "output_type": "stream",
     "text": [
      "para gt Vs gt:\n",
      "Statistics = 700.000, P_value = 0.011202016277368713\n",
      "Different distribution (reject H0)\n"
     ]
    }
   ],
   "source": [
    "#prueba\n",
    "print(\"para gt Vs gt:\")\n",
    "alpha = 0.05\n",
    "stat, p = mannwhitneyu(distribution_a, distribution_b)\n",
    "print(f'Statistics = {stat:.3f}, P_value = {p}')\n",
    "\n",
    "alpha = 0.05\n",
    "if p > alpha:\n",
    "    print('Same distribution (fail to reject H0)')\n",
    "else:\n",
    "    print('Different distribution (reject H0)')"
   ]
  },
  {
   "cell_type": "code",
   "execution_count": null,
   "id": "806a1b0f",
   "metadata": {},
   "outputs": [],
   "source": []
  }
 ],
 "metadata": {
  "kernelspec": {
   "display_name": "Python 3",
   "language": "python",
   "name": "python3"
  },
  "language_info": {
   "codemirror_mode": {
    "name": "ipython",
    "version": 3
   },
   "file_extension": ".py",
   "mimetype": "text/x-python",
   "name": "python",
   "nbconvert_exporter": "python",
   "pygments_lexer": "ipython3",
   "version": "3.6.9"
  }
 },
 "nbformat": 4,
 "nbformat_minor": 5
}
