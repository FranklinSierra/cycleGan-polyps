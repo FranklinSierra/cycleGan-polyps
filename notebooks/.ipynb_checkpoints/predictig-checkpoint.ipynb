{
 "cells": [
  {
   "cell_type": "markdown",
   "metadata": {},
   "source": [
    "# Useful methods"
   ]
  },
  {
   "cell_type": "code",
   "execution_count": null,
   "metadata": {},
   "outputs": [],
   "source": [
    "def predict(nom_video, clase, modelo, test_df):\n",
    "    \n",
    "    batch = len(test_df)\n",
    "    test_datagen = ImageDataGenerator(rescale=1./255.)\n",
    "    #Obtiene el número de frames.\n",
    "    number_of_frames = test_df.Frame\n",
    "    test_generator=test_datagen.flow_from_dataframe(dataframe=test_df,\n",
    "                                                  directory=\"C:\\\\Users\\\\frank\\\\Documents\\\\GitHub\\\\proyectoPolipos\\\\polyps\\\\DataSet\\\\\",\n",
    "                                                  x_col=\"x_col\",\n",
    "                                                  y_col=\"y_col\",\n",
    "                                                  batch_size=1,\n",
    "                                                  seed=42,\n",
    "                                                  shuffle=False,\n",
    "                                                  class_mode=\"categorical\",\n",
    "                                                  target_size=(112, 112))\n",
    "    pred = model.predict_generator(test_generator, steps = batch, verbose=1)\n",
    "    for k in range(len(pred)):\n",
    "        pred_k = pred[k]\n",
    "        writer.writerow([nom_video, number_of_frames.iloc[k], pred_k[0], pred_k[1], pred_k[2]])    "
   ]
  },
  {
   "cell_type": "code",
   "execution_count": null,
   "metadata": {},
   "outputs": [],
   "source": [
    "def sort_testing_dataframe(test_df):\n",
    "    test_df = test_df.sort_values(by='x_col')\n",
    "    test_df['Frame'] = (\n",
    "         test_df.apply(lambda x: int(x.x_col.split('/')[-1].split('_')[-1][:-4]), axis=1)\n",
    "         )\n",
    "    return test_df.sort_values(by='Frame')"
   ]
  },
  {
   "cell_type": "code",
   "execution_count": null,
   "metadata": {},
   "outputs": [],
   "source": [
    "with open('adenoma20.csv', 'w', newline='') as file:\n",
    "    writer = csv.writer(file)\n",
    "    clase = \"adenoma_NBI/\"\n",
    "    cant = 20\n",
    "    train_df = pd.read_csv(\"C:\\\\Users\\\\frank\\\\Documents\\\\GitHub\\\\proyectoPolipos\\\\polyps\\\\DataSet\\\\3clasesTrainNbi.csv\")\n",
    "    train_df.columns = ['x_col', 'y_col']\n",
    "    current_test_df = train_df[train_df['x_col'].str.contains(clase+'video_'+str(cant)+'/')]\n",
    "    current_test_df = sort_testing_dataframe(current_test_df)\n",
    "    path_model = \"C:\\\\Users\\\\frank\\\\Documents\\\\GitHub\\\\proyectoPolipos\\\\polyps\\\\weights\\\\refinamFALSEVGG163CLASESNBIvideo\"+str(cant)+\".h5\"\n",
    "    model = loadModel(path_model)\n",
    "    nom_video = clase+\"video\"+str(cant)\n",
    "    predict(nom_video, clase, model, current_test_df)"
   ]
  }
 ],
 "metadata": {
  "kernelspec": {
   "display_name": "Python 3",
   "language": "python",
   "name": "python3"
  },
  "language_info": {
   "codemirror_mode": {
    "name": "ipython",
    "version": 3
   },
   "file_extension": ".py",
   "mimetype": "text/x-python",
   "name": "python",
   "nbconvert_exporter": "python",
   "pygments_lexer": "ipython3",
   "version": "3.7.5"
  }
 },
 "nbformat": 4,
 "nbformat_minor": 2
}
