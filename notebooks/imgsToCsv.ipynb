{
 "cells": [
  {
   "cell_type": "code",
   "execution_count": 29,
   "metadata": {},
   "outputs": [],
   "source": [
    "import os\n",
    "import pandas as pd\n",
    "import matplotlib.pyplot as plt\n",
    "import numpy as np\n",
    "import math"
   ]
  },
  {
   "cell_type": "markdown",
   "metadata": {},
   "source": [
    "# Public dataset"
   ]
  },
  {
   "cell_type": "code",
   "execution_count": 17,
   "metadata": {},
   "outputs": [
    {
     "name": "stdout",
     "output_type": "stream",
     "text": [
      "=== clase === adenoma_WL\n",
      "video_1\n",
      "video_10\n",
      "video_11\n",
      "video_12\n",
      "video_13\n",
      "video_14\n",
      "video_15\n",
      "video_16\n",
      "video_17\n",
      "video_18\n",
      "video_19\n",
      "video_2\n",
      "video_20\n",
      "video_21\n",
      "video_22\n",
      "video_23\n",
      "video_24\n",
      "video_25\n",
      "video_26\n",
      "video_27\n",
      "video_28\n",
      "video_29\n",
      "video_3\n",
      "video_30\n",
      "video_31\n",
      "video_32\n",
      "video_33\n",
      "video_34\n",
      "video_35\n",
      "video_36\n",
      "video_37\n",
      "video_38\n",
      "video_39\n",
      "video_4\n",
      "video_40\n",
      "video_5\n",
      "video_6\n",
      "video_7\n",
      "video_8\n",
      "video_9\n",
      "=== clase === hiperplastic_WL\n",
      "video_1\n",
      "video_10\n",
      "video_11\n",
      "video_12\n",
      "video_13\n",
      "video_14\n",
      "video_15\n",
      "video_16\n",
      "video_17\n",
      "video_18\n",
      "video_19\n",
      "video_2\n",
      "video_20\n",
      "video_21\n",
      "video_3\n",
      "video_4\n",
      "video_5\n",
      "video_6\n",
      "video_7\n",
      "video_8\n",
      "video_9\n",
      "=== clase === serrated_WL\n",
      "video_1\n",
      "video_10\n",
      "video_11\n",
      "video_12\n",
      "video_13\n",
      "video_14\n",
      "video_15\n",
      "video_2\n",
      "video_3\n",
      "video_4\n",
      "video_5\n",
      "video_6\n",
      "video_7\n",
      "video_8\n",
      "video_9\n",
      "Finished!\n"
     ]
    }
   ],
   "source": [
    "path = '/Users/frank/Documents/maestria/propuesta/experiments/data/wl2nbi/fake_images_ck80/'\n",
    "clases = os.listdir(path)\n",
    "for clase in clases:\n",
    "    \n",
    "    print(\"=== clase ===\", clase)\n",
    "    if clase == 'adenoma_WL':\n",
    "        csvfile = open('adenoma.csv', '+w')\n",
    "        col_name = ',adenoma\\n'\n",
    "    if clase == 'hiperplastic_WL':\n",
    "        csvfile = open('hiperplastic.csv', '+w')\n",
    "        col_name = ',hiperplastic\\n'\n",
    "    if clase == 'serrated_WL':\n",
    "        csvfile = open('serrated.csv', '+w')\n",
    "        col_name = ',serrated\\n'\n",
    "    \n",
    "    \n",
    "    path_clase = path + clase\n",
    "    videos = os.listdir(path_clase)\n",
    "    for video in videos:\n",
    "        print(video)\n",
    "        path_videos = path_clase + '/' + video\n",
    "        imgs = os.listdir(path_videos)\n",
    "        for img in imgs:\n",
    "            path_img = path_videos + '/' + img\n",
    "            csvfile.write(path_img+col_name)\n",
    "            \n",
    "    csvfile.close()\n",
    "            \n",
    "print(\"Finished!\")        "
   ]
  },
  {
   "cell_type": "markdown",
   "metadata": {},
   "source": [
    "# For IGHO data\n",
    "preguntar el tipo en la carpeta: 2021-08-26_105781"
   ]
  },
  {
   "cell_type": "code",
   "execution_count": 18,
   "metadata": {},
   "outputs": [
    {
     "name": "stdout",
     "output_type": "stream",
     "text": [
      "finished!\n"
     ]
    }
   ],
   "source": [
    "root = \"/home/franklin/Maestria/experiments/unconditional_cycleGan/imgs_results/wl2nbi/fake_images_ck4/igho/AGOSTO/\"\n",
    "folder = \"2021-08-23_105381/\"\n",
    "label = 'hyperplastic'\n",
    "clases = ['artifNBI', 'realWL']\n",
    "for clase in clases:\n",
    "    csvfile = open(root+folder+label+clase+'.csv', '+w')\n",
    "    col_name = ','+label+'\\n'# ',adenoma\\n'\n",
    "    path = root + folder + clase\n",
    "    images = os.listdir(path)\n",
    "    for image in images:\n",
    "        img_path = path + '/' + image\n",
    "        csvfile.write(img_path+col_name)\n",
    "    csvfile.close()\n",
    "print(\"finished!\")"
   ]
  },
  {
   "cell_type": "code",
   "execution_count": 30,
   "metadata": {},
   "outputs": [
    {
     "name": "stdout",
     "output_type": "stream",
     "text": [
      "finished!\n"
     ]
    }
   ],
   "source": [
    "root = \"/data/Datasets/Igho/Uncompressed/Videos/AGOSTO/2021-08-30_106015_2/NBI/\"\n",
    "folder = \"2021-08-30_106015_2/\"\n",
    "light = \"NBI\"\n",
    "\n",
    "label = 'adenoma'\n",
    "to_save = '../imgs_results/wl2nbi/fake_images_ck4/igho/AGOSTO/' + folder\n",
    "clases = ['realNBI']\n",
    "\n",
    "for clase in clases:\n",
    "    csvfile = open(to_save+label+clase+'.csv', '+w')\n",
    "    col_name = ','+label+'\\n'\n",
    "    path = root + folder + light\n",
    "    images = os.listdir(path)\n",
    "    for image in images:\n",
    "        img_path = path + '/' + image\n",
    "        \n",
    "        csvfile.write(img_path+col_name)\n",
    "    csvfile.close()\n",
    "print(\"finished!\")"
   ]
  },
  {
   "cell_type": "code",
   "execution_count": null,
   "metadata": {},
   "outputs": [],
   "source": []
  }
 ],
 "metadata": {
  "kernelspec": {
   "display_name": "Python 3",
   "language": "python",
   "name": "python3"
  },
  "language_info": {
   "codemirror_mode": {
    "name": "ipython",
    "version": 3
   },
   "file_extension": ".py",
   "mimetype": "text/x-python",
   "name": "python",
   "nbconvert_exporter": "python",
   "pygments_lexer": "ipython3",
   "version": "3.8.10"
  }
 },
 "nbformat": 4,
 "nbformat_minor": 2
}
