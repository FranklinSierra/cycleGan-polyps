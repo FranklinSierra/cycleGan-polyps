{
 "cells": [
  {
   "cell_type": "code",
   "execution_count": 1,
   "metadata": {},
   "outputs": [],
   "source": [
    "import pandas as pd\n",
    "import tensorflow as tf\n",
    "from tensorflow.keras import backend as K\n",
    "from tensorflow.keras.preprocessing.image import ImageDataGenerator\n",
    "from tensorflow.keras.models import load_model\n",
    "import csv"
   ]
  },
  {
   "cell_type": "markdown",
   "metadata": {},
   "source": [
    "# Useful methods"
   ]
  },
  {
   "cell_type": "code",
   "execution_count": 2,
   "metadata": {},
   "outputs": [],
   "source": [
    "def sort_testing_dataframe(test_df):\n",
    "    test_df = test_df.sort_values(by='x_col')\n",
    "    test_df['Frame'] = (\n",
    "         test_df.apply(lambda x: int(x.x_col.split('/')[-1].split('_')[-1][:-4]), axis=1)\n",
    "         )\n",
    "    return test_df.sort_values(by='Frame')"
   ]
  },
  {
   "cell_type": "code",
   "execution_count": 3,
   "metadata": {},
   "outputs": [],
   "source": [
    "def auc_roc(y_true, y_pred):\n",
    "    auc = tf.metrics.auc(y_true, y_pred, summation_method='careful_interpolation', num_thresholds=1000)[1]\n",
    "    K.get_session().run(tf.local_variables_initializer())\n",
    "    return auc"
   ]
  },
  {
   "cell_type": "code",
   "execution_count": 4,
   "metadata": {},
   "outputs": [],
   "source": [
    "def loadModel(path):\n",
    "    model = load_model(path, compile= False) #custom_objects={'auc_roc': auc_roc}, )\n",
    "    return model"
   ]
  },
  {
   "cell_type": "code",
   "execution_count": 5,
   "metadata": {},
   "outputs": [],
   "source": [
    "def predict(nom_video, clase, modelo, test_df):\n",
    "    \n",
    "    batch = len(test_df)\n",
    "    test_datagen = ImageDataGenerator(rescale=1./255.)\n",
    "    #Obtiene el número de frames.\n",
    "    number_of_frames = test_df.Frame\n",
    "    test_generator=test_datagen.flow_from_dataframe(dataframe=test_df,\n",
    "                                                  directory='/Users/frank/Documents/maestria/propuesta/experiments/data/wl2nbi/fake_images_ck80/',\n",
    "                                                  x_col=\"x_col\",\n",
    "                                                  y_col=\"y_col\",\n",
    "                                                  batch_size=1,\n",
    "                                                  seed=42,\n",
    "                                                  shuffle=False,\n",
    "                                                  class_mode=\"categorical\",\n",
    "                                                  target_size=(112, 112))\n",
    "    pred = model.predict_generator(test_generator, steps = batch, verbose=1)\n",
    "    for k in range(len(pred)):\n",
    "        pred_k = pred[k]\n",
    "        writer.writerow([nom_video, number_of_frames.iloc[k], pred_k[0], pred_k[1], pred_k[2]])    "
   ]
  },
  {
   "cell_type": "code",
   "execution_count": 6,
   "metadata": {},
   "outputs": [
    {
     "name": "stdout",
     "output_type": "stream",
     "text": [
      "Found 174 validated image filenames belonging to 1 classes.\n"
     ]
    },
    {
     "name": "stderr",
     "output_type": "stream",
     "text": [
      "C:\\Users\\frank\\Anaconda3\\envs\\polipos\\lib\\site-packages\\tensorflow\\python\\keras\\engine\\training.py:2001: UserWarning: `Model.predict_generator` is deprecated and will be removed in a future version. Please use `Model.predict`, which supports generators.\n",
      "  warnings.warn('`Model.predict_generator` is deprecated and '\n"
     ]
    },
    {
     "name": "stdout",
     "output_type": "stream",
     "text": [
      "174/174 [==============================] - 11s 58ms/step\n",
      "Found 163 validated image filenames belonging to 1 classes.\n",
      "163/163 [==============================] - 10s 59ms/step\n",
      "Found 210 validated image filenames belonging to 1 classes.\n",
      "210/210 [==============================] - 12s 57ms/step\n",
      "Found 430 validated image filenames belonging to 1 classes.\n",
      "430/430 [==============================] - 25s 57ms/step\n",
      "Found 452 validated image filenames belonging to 1 classes.\n",
      "452/452 [==============================] - 26s 57ms/step\n",
      "Found 144 validated image filenames belonging to 1 classes.\n",
      "144/144 [==============================] - 9s 58ms/step\n",
      "Found 173 validated image filenames belonging to 1 classes.\n",
      "173/173 [==============================] - 10s 58ms/step\n",
      "Found 263 validated image filenames belonging to 1 classes.\n",
      "263/263 [==============================] - 16s 62ms/step\n",
      "Found 545 validated image filenames belonging to 1 classes.\n",
      "545/545 [==============================] - 33s 60ms/step\n",
      "Found 392 validated image filenames belonging to 1 classes.\n",
      "392/392 [==============================] - 24s 62ms/step\n",
      "Found 388 validated image filenames belonging to 1 classes.\n",
      "388/388 [==============================] - 23s 58ms/step\n",
      "Found 437 validated image filenames belonging to 1 classes.\n",
      "437/437 [==============================] - 27s 61ms/step\n",
      "Found 313 validated image filenames belonging to 1 classes.\n",
      "313/313 [==============================] - 19s 59ms/step\n",
      "Found 219 validated image filenames belonging to 1 classes.\n",
      "219/219 [==============================] - 13s 59ms/step\n",
      "Found 416 validated image filenames belonging to 1 classes.\n",
      "416/416 [==============================] - 24s 58ms/step\n",
      "Found 559 validated image filenames belonging to 1 classes.\n",
      "559/559 [==============================] - 33s 59ms/step\n",
      "Found 709 validated image filenames belonging to 1 classes.\n",
      "709/709 [==============================] - 42s 58ms/step\n",
      "Found 251 validated image filenames belonging to 1 classes.\n",
      "251/251 [==============================] - 15s 58ms/step\n",
      "Found 528 validated image filenames belonging to 1 classes.\n",
      "528/528 [==============================] - 31s 59ms/step\n",
      "Found 1147 validated image filenames belonging to 1 classes.\n",
      "1147/1147 [==============================] - 67s 58ms/step\n",
      "Found 1426 validated image filenames belonging to 1 classes.\n",
      "1426/1426 [==============================] - 83s 58ms/step\n",
      "Found 770 validated image filenames belonging to 1 classes.\n",
      "770/770 [==============================] - 45s 58ms/step\n",
      "Found 888 validated image filenames belonging to 1 classes.\n",
      "888/888 [==============================] - 52s 58ms/step\n",
      "Found 469 validated image filenames belonging to 1 classes.\n",
      "469/469 [==============================] - 29s 61ms/step\n",
      "Found 1291 validated image filenames belonging to 1 classes.\n",
      "1291/1291 [==============================] - 76s 59ms/step\n",
      "Found 506 validated image filenames belonging to 1 classes.\n",
      "506/506 [==============================] - 30s 58ms/step\n",
      "Found 727 validated image filenames belonging to 1 classes.\n",
      "727/727 [==============================] - 43s 59ms/step\n",
      "Found 566 validated image filenames belonging to 1 classes.\n",
      "566/566 [==============================] - 33s 58ms/step\n",
      "Found 237 validated image filenames belonging to 1 classes.\n",
      "237/237 [==============================] - 14s 58ms/step\n",
      "Found 589 validated image filenames belonging to 1 classes.\n",
      "589/589 [==============================] - 35s 58ms/step\n",
      "Found 448 validated image filenames belonging to 1 classes.\n",
      "448/448 [==============================] - 26s 58ms/step\n",
      "Found 330 validated image filenames belonging to 1 classes.\n",
      "330/330 [==============================] - 19s 58ms/step\n",
      "Found 641 validated image filenames belonging to 1 classes.\n",
      "641/641 [==============================] - 41s 63ms/step\n",
      "Found 1522 validated image filenames belonging to 1 classes.\n",
      "1522/1522 [==============================] - 91s 60ms/step\n",
      "Found 2286 validated image filenames belonging to 1 classes.\n",
      "2286/2286 [==============================] - 136s 59ms/step\n",
      "Found 429 validated image filenames belonging to 1 classes.\n",
      "429/429 [==============================] - 26s 59ms/step\n",
      "Found 615 validated image filenames belonging to 1 classes.\n",
      "615/615 [==============================] - 37s 60ms/step\n",
      "Found 663 validated image filenames belonging to 1 classes.\n",
      "663/663 [==============================] - 38s 58ms/step\n",
      "Found 701 validated image filenames belonging to 1 classes.\n",
      "701/701 [==============================] - 42s 60ms/step\n",
      "Found 461 validated image filenames belonging to 1 classes.\n",
      "461/461 [==============================] - 27s 59ms/step\n"
     ]
    }
   ],
   "source": [
    "with open('predict-ck80-adenoma.csv', 'w', newline='') as file:\n",
    "    writer = csv.writer(file)\n",
    "    clase = \"adenoma_WL/\"\n",
    "    cant = 40\n",
    "    train_df = pd.read_csv('/Users/frank/Documents/maestria/propuesta/experiments/cycleGan-polyps/notebooks/adenoma_ck80.csv')\n",
    "    train_df.columns = ['x_col', 'y_col']\n",
    "    for i in range(1, cant+1):\n",
    "        num = i\n",
    "        current_test_df = train_df[train_df['x_col'].str.contains(clase+'video_'+str(i)+'/')]\n",
    "        #Aquí ordenamos el dataframe por Frames y creamos una columna de frames.\n",
    "        current_test_df = sort_testing_dataframe(current_test_df)\n",
    "        \n",
    "        path_model = \"/Users/frank/Documents/maestria/propuesta/experiments/models/weights(3clases)/refinamFALSEVGG163CLASESNBIvideo\"+str(num)+\".h5\"\n",
    "        model = loadModel(path_model)\n",
    "        nom_video = clase+\"video\"+str(i)\n",
    "        predict(nom_video, clase, model, current_test_df)"
   ]
  },
  {
   "cell_type": "code",
   "execution_count": 7,
   "metadata": {},
   "outputs": [
    {
     "name": "stdout",
     "output_type": "stream",
     "text": [
      "Found 246 validated image filenames belonging to 1 classes.\n",
      "246/246 [==============================] - 14s 57ms/step\n",
      "Found 118 validated image filenames belonging to 1 classes.\n",
      "118/118 [==============================] - 7s 57ms/step\n",
      "Found 103 validated image filenames belonging to 1 classes.\n",
      "103/103 [==============================] - 6s 57ms/step\n",
      "Found 117 validated image filenames belonging to 1 classes.\n",
      "117/117 [==============================] - 7s 58ms/step\n",
      "Found 435 validated image filenames belonging to 1 classes.\n",
      "435/435 [==============================] - 26s 59ms/step\n",
      "Found 293 validated image filenames belonging to 1 classes.\n",
      "293/293 [==============================] - 17s 58ms/step\n",
      "Found 171 validated image filenames belonging to 1 classes.\n",
      "171/171 [==============================] - 10s 58ms/step\n",
      "Found 656 validated image filenames belonging to 1 classes.\n",
      "656/656 [==============================] - 39s 59ms/step\n",
      "Found 487 validated image filenames belonging to 1 classes.\n",
      "487/487 [==============================] - 28s 58ms/step\n",
      "Found 428 validated image filenames belonging to 1 classes.\n",
      "428/428 [==============================] - 25s 59ms/step\n",
      "Found 309 validated image filenames belonging to 1 classes.\n",
      "309/309 [==============================] - 18s 57ms/step\n",
      "Found 806 validated image filenames belonging to 1 classes.\n",
      "806/806 [==============================] - 47s 58ms/step\n",
      "Found 293 validated image filenames belonging to 1 classes.\n",
      "293/293 [==============================] - 17s 58ms/step\n",
      "Found 536 validated image filenames belonging to 1 classes.\n",
      "536/536 [==============================] - 31s 58ms/step\n",
      "Found 386 validated image filenames belonging to 1 classes.\n",
      "386/386 [==============================] - 22s 57ms/step\n",
      "Found 337 validated image filenames belonging to 1 classes.\n",
      "337/337 [==============================] - 20s 59ms/step\n",
      "Found 209 validated image filenames belonging to 1 classes.\n",
      "209/209 [==============================] - 12s 58ms/step\n",
      "Found 232 validated image filenames belonging to 1 classes.\n",
      "232/232 [==============================] - 15s 61ms/step\n",
      "Found 492 validated image filenames belonging to 1 classes.\n",
      "492/492 [==============================] - 31s 62ms/step\n",
      "Found 492 validated image filenames belonging to 1 classes.\n",
      "492/492 [==============================] - 29s 59ms/step\n",
      "Found 276 validated image filenames belonging to 1 classes.\n",
      "276/276 [==============================] - 17s 61ms/step\n"
     ]
    }
   ],
   "source": [
    "with open('predict-ck80-hiperplastic.csv', 'w', newline='') as file:\n",
    "    writer = csv.writer(file)\n",
    "    clase = \"hiperplastic_WL/\"\n",
    "    cant = 21\n",
    "    train_df = pd.read_csv('/Users/frank/Documents/maestria/propuesta/experiments/cycleGan-polyps/notebooks/hiperplastic_ck80.csv')\n",
    "    train_df.columns = ['x_col', 'y_col']\n",
    "    for i in range(1, cant+1):\n",
    "        num = i + 40\n",
    "        current_test_df = train_df[train_df['x_col'].str.contains(clase+'video_'+str(i)+'/')]\n",
    "        #Aquí ordenamos el dataframe por Frames y creamos una columna de frames.\n",
    "        current_test_df = sort_testing_dataframe(current_test_df)\n",
    "        \n",
    "        path_model = \"/Users/frank/Documents/maestria/propuesta/experiments/models/weights(3clases)/refinamFALSEVGG163CLASESNBIvideo\"+str(num)+\".h5\"\n",
    "        model = loadModel(path_model)\n",
    "        nom_video = clase+\"video\"+str(num)\n",
    "        predict(nom_video, clase, model, current_test_df)"
   ]
  },
  {
   "cell_type": "code",
   "execution_count": 8,
   "metadata": {},
   "outputs": [
    {
     "name": "stdout",
     "output_type": "stream",
     "text": [
      "Found 216 validated image filenames belonging to 1 classes.\n",
      "216/216 [==============================] - 13s 60ms/step\n",
      "Found 241 validated image filenames belonging to 1 classes.\n",
      "241/241 [==============================] - 14s 59ms/step\n",
      "Found 329 validated image filenames belonging to 1 classes.\n",
      "329/329 [==============================] - 20s 59ms/step\n",
      "Found 480 validated image filenames belonging to 1 classes.\n",
      "480/480 [==============================] - 29s 60ms/step\n",
      "Found 146 validated image filenames belonging to 1 classes.\n",
      "146/146 [==============================] - 9s 57ms/step\n",
      "Found 336 validated image filenames belonging to 1 classes.\n",
      "336/336 [==============================] - 20s 58ms/step\n",
      "Found 316 validated image filenames belonging to 1 classes.\n",
      "316/316 [==============================] - 18s 58ms/step\n",
      "Found 328 validated image filenames belonging to 1 classes.\n",
      "328/328 [==============================] - 19s 58ms/step\n",
      "Found 395 validated image filenames belonging to 1 classes.\n",
      "395/395 [==============================] - 24s 60ms/step\n",
      "Found 414 validated image filenames belonging to 1 classes.\n",
      "414/414 [==============================] - 26s 61ms/step\n",
      "Found 463 validated image filenames belonging to 1 classes.\n",
      "463/463 [==============================] - 28s 61ms/step\n",
      "Found 475 validated image filenames belonging to 1 classes.\n",
      "475/475 [==============================] - 29s 60ms/step\n",
      "Found 420 validated image filenames belonging to 1 classes.\n",
      "420/420 [==============================] - 25s 59ms/step\n",
      "Found 481 validated image filenames belonging to 1 classes.\n",
      "481/481 [==============================] - 29s 59ms/step\n",
      "Found 591 validated image filenames belonging to 1 classes.\n",
      "591/591 [==============================] - 35s 59ms/step\n"
     ]
    }
   ],
   "source": [
    "with open('predict-ck80-serrated.csv', 'w', newline='') as file:\n",
    "    writer = csv.writer(file)\n",
    "    clase = \"serrated_WL/\"\n",
    "    cant = 15\n",
    "    train_df = pd.read_csv('/Users/frank/Documents/maestria/propuesta/experiments/cycleGan-polyps/notebooks/serrated_ck80.csv')\n",
    "    train_df.columns = ['x_col', 'y_col']\n",
    "    for i in range(1, cant+1):\n",
    "        num = i + 61\n",
    "        current_test_df = train_df[train_df['x_col'].str.contains(clase+'video_'+str(i)+'/')]\n",
    "        #Aquí ordenamos el dataframe por Frames y creamos una columna de frames.\n",
    "        current_test_df = sort_testing_dataframe(current_test_df)\n",
    "        \n",
    "        path_model = \"/Users/frank/Documents/maestria/propuesta/experiments/models/weights(3clases)/refinamFALSEVGG163CLASESNBIvideo\"+str(num)+\".h5\"\n",
    "        model = loadModel(path_model)\n",
    "        nom_video = clase+\"video\"+str(num)\n",
    "        predict(nom_video, clase, model, current_test_df)"
   ]
  },
  {
   "cell_type": "code",
   "execution_count": null,
   "metadata": {},
   "outputs": [],
   "source": []
  }
 ],
 "metadata": {
  "kernelspec": {
   "display_name": "Python 3",
   "language": "python",
   "name": "python3"
  },
  "language_info": {
   "codemirror_mode": {
    "name": "ipython",
    "version": 3
   },
   "file_extension": ".py",
   "mimetype": "text/x-python",
   "name": "python",
   "nbconvert_exporter": "python",
   "pygments_lexer": "ipython3",
   "version": "3.8.5"
  }
 },
 "nbformat": 4,
 "nbformat_minor": 2
}
